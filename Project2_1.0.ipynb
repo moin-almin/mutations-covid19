{
 "cells": [
  {
   "cell_type": "markdown",
   "metadata": {},
   "source": [
    "# Preprocessing"
   ]
  },
  {
   "cell_type": "code",
   "execution_count": null,
   "metadata": {},
   "outputs": [],
   "source": [
    "key_names = ['name', 'accno', 'date', 'sloc', 'eloc']\n",
    "listrec = []"
   ]
  },
  {
   "cell_type": "code",
   "execution_count": null,
   "metadata": {},
   "outputs": [],
   "source": [
    "with open(\"S_protein.fasta\") as file:\n",
    "    for meta in file:\n",
    "        sprot = next(file)\n",
    "        rec = dict(zip(key_names, meta.split('|')))\n",
    "        rec['sprot'] = sprot\n",
    "        listrec.append(rec)"
   ]
  },
  {
   "cell_type": "code",
   "execution_count": null,
   "metadata": {},
   "outputs": [],
   "source": [
    "listrec.sort(key = lambda x:x['date'])"
   ]
  },
  {
   "cell_type": "code",
   "execution_count": null,
   "metadata": {},
   "outputs": [],
   "source": [
    "with open('sProt_sorted.fasta','w') as log:\n",
    "    for rec in listrec:\n",
    "        log.write('{}|{}|{}|{}|{}{}'.format(rec['name'], rec['accno'], rec['date'], rec['sloc'], rec['eloc'], rec['sprot']))"
   ]
  },
  {
   "cell_type": "markdown",
   "metadata": {},
   "source": [
    "# Date Analysis"
   ]
  },
  {
   "cell_type": "code",
   "execution_count": null,
   "metadata": {},
   "outputs": [],
   "source": [
    "key_names = ['name', 'accno', 'date', 'sloc', 'eloc']\n",
    "listrec = []"
   ]
  },
  {
   "cell_type": "code",
   "execution_count": null,
   "metadata": {},
   "outputs": [],
   "source": [
    "with open(\"sProt_sorted.fasta\") as file:\n",
    "    for meta in file:\n",
    "        sprot = next(file)\n",
    "        rec = dict(zip(key_names, meta.split('|')))\n",
    "        rec['sprot'] = sprot\n",
    "        listrec.append(rec)"
   ]
  },
  {
   "cell_type": "code",
   "execution_count": null,
   "metadata": {},
   "outputs": [],
   "source": [
    "from collections import Counter\n",
    "\n",
    "c = Counter()\n",
    "for item in listrec:\n",
    "    c[item[\"date\"]] += 1\n",
    "\n",
    "print(c)\n",
    "len(c)"
   ]
  },
  {
   "cell_type": "markdown",
   "metadata": {},
   "source": [
    "# Reference S Gene"
   ]
  },
  {
   "cell_type": "code",
   "execution_count": null,
   "metadata": {},
   "outputs": [],
   "source": [
    "lenRec = len(listrec[0]['sprot'])\n",
    "nRec = len(listrec)"
   ]
  },
  {
   "cell_type": "code",
   "execution_count": null,
   "metadata": {},
   "outputs": [],
   "source": [
    "refGen = ''"
   ]
  },
  {
   "cell_type": "code",
   "execution_count": null,
   "metadata": {},
   "outputs": [],
   "source": [
    "for i in range(lenRec-1):\n",
    "    nA = nT = nG = nC = 0\n",
    "    for rec in listrec:\n",
    "        if rec['sprot'][i] == 'A':\n",
    "            nA += 1\n",
    "        elif rec['sprot'][i] == 'T':\n",
    "            nT += 1\n",
    "        elif rec['sprot'][i] == 'G':\n",
    "            nG += 1\n",
    "        elif rec['sprot'][i] == 'C':\n",
    "            nC += 1\n",
    "    print(i, nA,nT,nG,nC)\n",
    "    if nA == max(nA, nT, nG, nC):\n",
    "        refGen = refGen + 'A'\n",
    "    elif nT == max(nA, nT, nG, nC):\n",
    "        refGen = refGen + 'T'\n",
    "    elif nG == max(nA, nT, nG, nC):\n",
    "        refGen = refGen + 'G'\n",
    "    elif nC == max(nA, nT, nG, nC):\n",
    "        refGen = refGen + 'C'"
   ]
  },
  {
   "cell_type": "code",
   "execution_count": null,
   "metadata": {},
   "outputs": [],
   "source": [
    "refGen"
   ]
  },
  {
   "cell_type": "code",
   "execution_count": null,
   "metadata": {},
   "outputs": [],
   "source": [
    "file1 = open('refgen.txt', 'r')\n",
    "refgen = file1.readlines()\n",
    "refgen = refgen[0]\n",
    "refgen"
   ]
  },
  {
   "cell_type": "markdown",
   "metadata": {},
   "source": [
    "# Finding Base Substitutions using Ref Genome"
   ]
  },
  {
   "cell_type": "code",
   "execution_count": null,
   "metadata": {},
   "outputs": [],
   "source": [
    "j = 0\n",
    "with open('nBS.txt','w') as log:\n",
    "    for rec in listrec:\n",
    "        nBS = 0\n",
    "        for i in range(len(refgen)-1):\n",
    "            if rec['sprot'][i] != refgen[i]:\n",
    "                nBS += 1\n",
    "        j +=1\n",
    "        log.write('{},{},{},{}\\n'.format(rec['name'], rec['accno'], rec['date'], nBS))"
   ]
  },
  {
   "cell_type": "markdown",
   "metadata": {},
   "source": [
    "# Finding Base Substitutions using the first gene"
   ]
  },
  {
   "cell_type": "code",
   "execution_count": null,
   "metadata": {},
   "outputs": [],
   "source": [
    "j = 0\n",
    "refgen = listrec[0]['sprot']"
   ]
  },
  {
   "cell_type": "code",
   "execution_count": null,
   "metadata": {},
   "outputs": [],
   "source": [
    "for rec in listrec:\n",
    "    nBS = 0\n",
    "    for i in range(len(refgen)-1):\n",
    "        if rec['sprot'][i] != refgen[i]:\n",
    "            nBS += 1\n",
    "    j +=1\n",
    "    print(j,nBS)"
   ]
  },
  {
   "cell_type": "markdown",
   "metadata": {},
   "source": [
    "# nBS Analysis"
   ]
  },
  {
   "cell_type": "code",
   "execution_count": null,
   "metadata": {},
   "outputs": [],
   "source": [
    "key_names = ['name', 'accno', 'date', 'nBS']\n",
    "listrec = []"
   ]
  },
  {
   "cell_type": "code",
   "execution_count": null,
   "metadata": {},
   "outputs": [],
   "source": [
    "with open(\"nBS.txt\") as file:\n",
    "    for meta in file:\n",
    "        rec = dict(zip(key_names, meta.split(',')))\n",
    "        listrec.append(rec)"
   ]
  },
  {
   "cell_type": "code",
   "execution_count": null,
   "metadata": {},
   "outputs": [],
   "source": [
    "for rec in listrec:\n",
    "    rec['nBS'] = rec['nBS'].rstrip()"
   ]
  },
  {
   "cell_type": "code",
   "execution_count": null,
   "metadata": {},
   "outputs": [],
   "source": [
    "from collections import Counter\n",
    "\n",
    "c = Counter()\n",
    "for item in listrec:\n",
    "    c[item[\"nBS\"]] += 1\n",
    "\n",
    "print(c)\n",
    "len(c)"
   ]
  },
  {
   "cell_type": "markdown",
   "metadata": {},
   "source": [
    "# Creating Protein Sequences"
   ]
  },
  {
   "cell_type": "code",
   "execution_count": null,
   "metadata": {},
   "outputs": [],
   "source": [
    "gencode = {\n",
    "    'TTT' : 'F','TTC' : 'F','TTA' : 'L','TTG' : 'L','TCT' : 'S','TCC' : 'S','TCA' : 'S','TCG' : 'S','TAT' : 'Y','TAC' : 'Y',\n",
    "    'TAA' : '*','TAG' : '*','TGT' : 'C','TGC' : 'C','TGA' : '*','TGG' : 'W','CTT' : 'L','CTC' : 'L','CTA' : 'L','CTG' : 'L',\n",
    "    'CCT' : 'P','CCC' : 'P','CCA' : 'P','CCG' : 'P','CAT' : 'H','CAC' : 'H','CAA' : 'Q','CAG' : 'Q','CGT' : 'R','CGC' : 'R',\n",
    "    'CGA' : 'R','CGG' : 'R','ATT' : 'I','ATC' : 'I','ATA' : 'I','ATG' : 'M','ACT' : 'T','ACC' : 'T','ACA' : 'T','ACG' : 'T',\n",
    "    'AAT' : 'N','AAC' : 'N','AAA' : 'K','AAG' : 'K','AGT' : 'S','AGC' : 'S','AGA' : 'R','AGG' : 'R','GTT' : 'V','GTC' : 'V',\n",
    "    'GTA' : 'V','GTG' : 'V','GCT' : 'A','GCC' : 'A','GCA' : 'A','GCG' : 'A','GAT' : 'D','GAC' : 'D','GAA' : 'E','GAG' : 'E',\n",
    "    'GGT' : 'G','GGC' : 'G','GGA' : 'G','GGG' : 'G'\n",
    "    \n",
    "}"
   ]
  },
  {
   "cell_type": "code",
   "execution_count": null,
   "metadata": {},
   "outputs": [],
   "source": [
    "key_names = ['name', 'accno', 'date', 'sloc', 'eloc']\n",
    "listrec = []\n",
    "with open(\"sProt_sorted.fasta\") as file:\n",
    "    for meta in file:\n",
    "        sprot = next(file)\n",
    "        rec = dict(zip(key_names, meta.split('|')))\n",
    "        rec['sprot'] = sprot\n",
    "        listrec.append(rec)"
   ]
  },
  {
   "cell_type": "code",
   "execution_count": null,
   "metadata": {},
   "outputs": [],
   "source": [
    "with open('proteinSeq.fasta','w') as log:\n",
    "    for rec in listrec:\n",
    "        rec = listrec[0]\n",
    "        pSeq = ''\n",
    "        for i in range(0, len(rec['sprot'])-1, 3):\n",
    "            codon = rec['sprot'][i] + rec['sprot'][i+1] + rec['sprot'][i+2]\n",
    "            if codon in gencode.keys():\n",
    "                pSeq += gencode[codon] \n",
    "        log.write('{}|{}|{}\\n{}\\n'.format(rec['name'], rec['accno'], rec['date'], pSeq))"
   ]
  },
  {
   "cell_type": "markdown",
   "metadata": {},
   "source": [
    "# Finding number of silent, missense and nonsense mutations"
   ]
  },
  {
   "cell_type": "code",
   "execution_count": null,
   "metadata": {},
   "outputs": [],
   "source": [
    "key_names = ['name', 'accno', 'date', 'sloc', 'eloc']\n",
    "listrec = []\n",
    "\n",
    "with open(\"sProt_sorted.fasta\") as file1, open(\"proteinSeq.fasta\") as file2:\n",
    "    for meta1, meta2 in zip(file1, file2):\n",
    "        sprot = next(file1)\n",
    "        pseq = next(file2)\n",
    "        rec = dict(zip(key_names, meta1.split('|')))\n",
    "        rec['sprot'] = sprot.strip()\n",
    "        rec['pSeq'] = pseq.strip()\n",
    "        listrec.append(rec)"
   ]
  },
  {
   "cell_type": "code",
   "execution_count": null,
   "metadata": {},
   "outputs": [],
   "source": [
    "refgen = listrec[0]['sprot']\n",
    "refprot = listrec[0]['pSeq'] "
   ]
  },
  {
   "cell_type": "code",
   "execution_count": null,
   "metadata": {},
   "outputs": [],
   "source": [
    "#testing code\n",
    "rec = listrec[1]\n",
    "k = 0\n",
    "nSil = 0\n",
    "nMis = 0\n",
    "nNon = 0\n",
    "for i in range(0, len(refgen)-1):\n",
    "    if rec['sprot'][i] != refgen[i]:\n",
    "        k = i//3\n",
    "        if rec['pSeq'][k] == refprot[k]:\n",
    "            nSil += 1\n",
    "        elif rec['pSeq'][k] != refprot[k]:\n",
    "            nMis += 1\n",
    "        elif rec['pSeq'][k] == '*' and refprot[k] != '*':\n",
    "            nNon += 1\n",
    "print(nSil, nMis, nNon)"
   ]
  },
  {
   "cell_type": "code",
   "execution_count": null,
   "metadata": {},
   "outputs": [],
   "source": [
    "j = 0\n",
    "with open('mutations.txt','w') as log:\n",
    "    for rec in listrec:\n",
    "        nSil = 0\n",
    "        nMis = 0\n",
    "        nNon = 0\n",
    "        for i in range(0, len(refgen)-1):\n",
    "            if rec['sprot'][i] != refgen[i]:\n",
    "                k = i//3\n",
    "                if rec['pSeq'][k] == refprot[k]:\n",
    "                    nSil += 1\n",
    "                elif rec['pSeq'][k] != refprot[k]:\n",
    "                    nMis += 1\n",
    "                elif rec['pSeq'][k] == '*' and refprot[k] != '*':\n",
    "                    nNon += 1\n",
    "        log.write('{},{},{},{},{},{}\\n'.format(rec['name'], rec['accno'], rec['date'], nSil, nMis, nNon))"
   ]
  },
  {
   "cell_type": "markdown",
   "metadata": {},
   "source": [
    "# Total number of Sil, Mis and Non mutations"
   ]
  },
  {
   "cell_type": "code",
   "execution_count": null,
   "metadata": {},
   "outputs": [],
   "source": [
    "key_names = ['name', 'accno', 'date', 'nSil', 'nMis', 'nNon']\n",
    "listrec = []"
   ]
  },
  {
   "cell_type": "code",
   "execution_count": null,
   "metadata": {},
   "outputs": [],
   "source": [
    "with open(\"mutations.txt\") as file:\n",
    "    for meta in file:\n",
    "        rec = dict(zip(key_names, meta.split(',')))\n",
    "        listrec.append(rec)"
   ]
  },
  {
   "cell_type": "code",
   "execution_count": null,
   "metadata": {},
   "outputs": [],
   "source": [
    "for rec in listrec:\n",
    "    rec['nNon'] = rec['nNon'].rstrip()"
   ]
  },
  {
   "cell_type": "code",
   "execution_count": null,
   "metadata": {},
   "outputs": [],
   "source": [
    "tSil = 0\n",
    "tMis = 0\n",
    "tNon = 0\n",
    "\n",
    "for rec in listrec:\n",
    "    tSil += int(rec['nSil'])\n",
    "    tMis += int(rec['nMis'])\n",
    "    tNon += int(rec['nNon'])"
   ]
  },
  {
   "cell_type": "code",
   "execution_count": null,
   "metadata": {},
   "outputs": [],
   "source": [
    "print(tSil, tMis, tNon)"
   ]
  },
  {
   "cell_type": "markdown",
   "metadata": {},
   "source": [
    "# Visual Representation of Mutations"
   ]
  },
  {
   "cell_type": "code",
   "execution_count": null,
   "metadata": {},
   "outputs": [],
   "source": [
    "key_names = ['name', 'accno', 'date', 'sloc', 'eloc']\n",
    "listrec = []\n",
    "with open(\"sProt_sorted.fasta\") as file:\n",
    "    for meta in file:\n",
    "        sprot = next(file)\n",
    "        rec = dict(zip(key_names, meta.split('|')))\n",
    "        rec['sprot'] = sprot\n",
    "        listrec.append(rec)"
   ]
  },
  {
   "cell_type": "code",
   "execution_count": null,
   "metadata": {},
   "outputs": [],
   "source": [
    "file1 = open('refgen.txt', 'r')\n",
    "refgen = file1.readlines()\n",
    "refgen = refgen[0]"
   ]
  },
  {
   "cell_type": "code",
   "execution_count": null,
   "metadata": {},
   "outputs": [],
   "source": [
    "with open('visualMut.txt','w') as log:\n",
    "    for rec in listrec:\n",
    "        cleanrec = ''\n",
    "        for i in range(len(refgen)-1):\n",
    "            if rec['sprot'][i] != refgen[i]:\n",
    "                cleanrec = cleanrec + rec['sprot'][i]\n",
    "            else:\n",
    "                cleanrec = cleanrec + '.'\n",
    "        log.write('{},{},{}\\n{}\\n'.format(rec['name'], rec['accno'], rec['date'], cleanrec))"
   ]
  },
  {
   "cell_type": "markdown",
   "metadata": {},
   "source": [
    "# Average Monthly Mutations"
   ]
  },
  {
   "cell_type": "code",
   "execution_count": null,
   "metadata": {},
   "outputs": [],
   "source": [
    "key_names = ['name', 'accno', 'date', 'nBS']\n",
    "listrec = []\n",
    "with open(\"nBS.txt\") as file:\n",
    "    for meta in file:\n",
    "        rec = dict(zip(key_names, meta.split(',')))\n",
    "        listrec.append(rec)\n",
    "for rec in listrec:\n",
    "    rec['nBS'] = rec['nBS'].rstrip()\n"
   ]
  },
  {
   "cell_type": "code",
   "execution_count": null,
   "metadata": {},
   "outputs": [],
   "source": [
    "from itertools import groupby\n",
    "import statistics\n",
    "for k,v in groupby(listrec,key=lambda x:x['date'][:7]):\n",
    "    print ('date:'+k+'-01','nbs:'+str(statistics.mean(int(d['nBS']) for d in v)))"
   ]
  },
  {
   "cell_type": "markdown",
   "metadata": {},
   "source": [
    "# Mutations in Functional Domains"
   ]
  },
  {
   "cell_type": "code",
   "execution_count": null,
   "metadata": {},
   "outputs": [],
   "source": []
  },
  {
   "cell_type": "code",
   "execution_count": null,
   "metadata": {},
   "outputs": [],
   "source": []
  },
  {
   "cell_type": "code",
   "execution_count": null,
   "metadata": {},
   "outputs": [],
   "source": []
  },
  {
   "cell_type": "code",
   "execution_count": null,
   "metadata": {},
   "outputs": [],
   "source": []
  }
 ],
 "metadata": {
  "kernelspec": {
   "display_name": "Python 3",
   "language": "python",
   "name": "python3"
  },
  "language_info": {
   "codemirror_mode": {
    "name": "ipython",
    "version": 3
   },
   "file_extension": ".py",
   "mimetype": "text/x-python",
   "name": "python",
   "nbconvert_exporter": "python",
   "pygments_lexer": "ipython3",
   "version": "3.7.6"
  }
 },
 "nbformat": 4,
 "nbformat_minor": 4
}
